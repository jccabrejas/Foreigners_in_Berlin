{
 "cells": [
  {
   "cell_type": "code",
   "execution_count": 1,
   "metadata": {
    "collapsed": true
   },
   "outputs": [],
   "source": [
    "import pandas as pd\n",
    "import rdp\n",
    "import numpy as np\n",
    "import json\n",
    "\n",
    "from bokeh.io import curdoc\n",
    "from bokeh.plotting import ColumnDataSource, figure, output_file, show, output_notebook\n",
    "\n",
    "from bokeh.models import HoverTool, Select, LinearColorMapper, ColorBar\n",
    "from bokeh.colors import RGB\n",
    "\n",
    "from bokeh.layouts import column, widgetbox"
   ]
  },
  {
   "cell_type": "code",
   "execution_count": 2,
   "metadata": {
    "collapsed": true
   },
   "outputs": [],
   "source": [
    "# read csv file with population data\n",
    "data = pd.read_csv('./data/Export_from_Statis_BBB_with_deleted_rows.csv', dtype = str)\n",
    "data.replace(to_replace = '-', value = 0, inplace=True)\n",
    "data.set_index(\"LOR\", inplace=True)\n",
    "\n",
    "with open('./data/LOR_patches.json', 'r') as f:\n",
    "    LOR = json.load(f)\n",
    "\n",
    "\n",
    "LOR_areas = sorted(LOR.keys())\n",
    "temp = np.interp([data.loc[k]['31.12.2017'] for k in LOR_areas],[0, 300],[255, 0])\n",
    "colors = [RGB(temp[_],temp[_],temp[_]) for _ in range(len(temp))]\n",
    "\n",
    "source = ColumnDataSource(dict(\n",
    "            xs=[LOR[k]['X'] for k in LOR_areas],\n",
    "            ys=[LOR[k]['Y'] for k in LOR_areas],\n",
    "            name=[data.loc[k]['LOR Name'] for k in LOR_areas], \n",
    "            population=[data.loc[k]['31.12.2017'] for k in LOR_areas],\n",
    "            colors=colors\n",
    "                            )\n",
    "                         )\n",
    "\n",
    "# Create the figure: p\n",
    "berlin_map = figure(x_axis_label='Longitude', y_axis_label='Latitude')\n",
    "\n",
    "berlin_map.patches(xs='xs',ys='ys', fill_color='colors', source=source)\n",
    "\n",
    "# Specify the name of the output file and show the result\n",
    "output_file('berlin_map_with_bokeh_hover_no_dropdown.html')\n",
    "\n",
    "# Create a HoverTool: hover\n",
    "hover = HoverTool(tooltips=[('Area Name', '@name'), ('Population', '@population')], mode='mouse')\n",
    "\n",
    "# Add the hover tool to the figure p\n",
    "berlin_map.add_tools(hover)\n",
    "\n",
    "show(berlin_map)"
   ]
  },
  {
   "cell_type": "code",
   "execution_count": null,
   "metadata": {
    "collapsed": true
   },
   "outputs": [],
   "source": []
  }
 ],
 "metadata": {
  "kernelspec": {
   "display_name": "Python 3",
   "language": "python",
   "name": "python3"
  },
  "language_info": {
   "codemirror_mode": {
    "name": "ipython",
    "version": 3
   },
   "file_extension": ".py",
   "mimetype": "text/x-python",
   "name": "python",
   "nbconvert_exporter": "python",
   "pygments_lexer": "ipython3",
   "version": "3.6.0"
  }
 },
 "nbformat": 4,
 "nbformat_minor": 2
}
